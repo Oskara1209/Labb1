{
 "cells": [
  {
   "cell_type": "code",
   "execution_count": null,
   "metadata": {},
   "outputs": [
    {
     "name": "stdout",
     "output_type": "stream",
     "text": [
      ">seq1\n",
      "cGTAaccaataaaaaaacaagcttaacctaattc\n",
      ">seq2\n",
      "agcttagTTTGGatctggccgggg\n",
      ">seq3\n",
      "gcggatttactcCCCCCAAAAANNaggggagagcccagataaatggagtctgtgcgtccaca\n",
      ">seq4\n",
      "gcggatttactcaggggagagcccagGGataaatggagtctgtgcgtccaca\n"
     ]
    }
   ],
   "source": [
    "with open(\"dna_raw.txt\", \"r\") as file: #open the raw text file \n",
    "    raw_text = file.read()\n",
    "print(raw_text) #print the raw text"
   ]
  },
  {
   "cell_type": "code",
   "execution_count": 69,
   "metadata": {},
   "outputs": [],
   "source": [
    "text = raw_text \n",
    "\n",
    "lines = text.strip().split(\"\\n\") #split the raw text in to a list \n"
   ]
  },
  {
   "cell_type": "code",
   "execution_count": 74,
   "metadata": {},
   "outputs": [],
   "source": [
    "dna_sequences = {}  # Dictionary to store sequences\n",
    "current_id = None  # To keep track of the sequence ID"
   ]
  },
  {
   "cell_type": "code",
   "execution_count": 70,
   "metadata": {},
   "outputs": [
    {
     "name": "stdout",
     "output_type": "stream",
     "text": [
      "['>seq1', 'cGTAaccaataaaaaaacaagcttaacctaattc', '>seq2', 'agcttagTTTGGatctggccgggg', '>seq3', 'gcggatttactcCCCCCAAAAANNaggggagagcccagataaatggagtctgtgcgtccaca', '>seq4', 'gcggatttactcaggggagagcccagGGataaatggagtctgtgcgtccaca']\n"
     ]
    }
   ],
   "source": [
    "print(lines) #print the list called lines "
   ]
  },
  {
   "cell_type": "code",
   "execution_count": 76,
   "metadata": {},
   "outputs": [],
   "source": [
    "\n",
    "for line in lines:\n",
    "    line = line.strip()  # Remove whitespace and newlines\n",
    "\n",
    "    if line.startswith(\">\"):  # This is a sequence ID\n",
    "        current_id = line[1:]  # Remove \">\" and store only the ID\n",
    "        dna_sequences[current_id] = \"\"  # Initialize an empty sequence\n",
    "    else:  # This is a DNA sequence\n",
    "        dna_sequences[current_id] += line.upper()  # Convert to uppercase and store\n"
   ]
  },
  {
   "cell_type": "code",
   "execution_count": 77,
   "metadata": {},
   "outputs": [],
   "source": [
    "dna_counts = {}\n",
    "\n",
    "for seq_id, sequence in dna_sequences.items():\n",
    "    dna_counts[seq_id] = {\n",
    "        \"A\": sequence.count(\"A\"),\n",
    "        \"T\": sequence.count(\"T\"),\n",
    "        \"C\": sequence.count(\"C\"),\n",
    "        \"G\": sequence.count(\"G\")\n",
    "    }"
   ]
  }
 ],
 "metadata": {
  "kernelspec": {
   "display_name": ".venv",
   "language": "python",
   "name": "python3"
  },
  "language_info": {
   "codemirror_mode": {
    "name": "ipython",
    "version": 3
   },
   "file_extension": ".py",
   "mimetype": "text/x-python",
   "name": "python",
   "nbconvert_exporter": "python",
   "pygments_lexer": "ipython3",
   "version": "3.13.1"
  }
 },
 "nbformat": 4,
 "nbformat_minor": 2
}
